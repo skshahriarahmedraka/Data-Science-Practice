{
 "cells": [
  {
   "cell_type": "code",
   "execution_count": 13,
   "metadata": {},
   "outputs": [],
   "source": []
  },
  {
   "cell_type": "code",
   "execution_count": 37,
   "metadata": {
    "scrolled": true
   },
   "outputs": [
    {
     "name": "stdout",
     "output_type": "stream",
     "text": [
      "give a list of number : \n",
      "1 2 3 4 56 7 8 9 12\n",
      "your array is : \n",
      "1 2 3 4 56 7 8 9 12 \n",
      "your list is : \n",
      "1 2 3 4 56 7 8 9 12 \n",
      "your linked list is : \n",
      "1 2 3 4 56 7 8 9 12 \n",
      "search a number in array, list and linklist : \n",
      "12\n",
      "12 is found in array \n",
      "search time needed in array 110.19999874406494 microsecond \n",
      "12 is found in list \n",
      "search time needed in list 24.29999949526973 microsecond \n",
      "Yes , 12 is found in linklist\n",
      "search time needed in LinkList 24.79999966453761 microsecond \n"
     ]
    },
    {
     "data": {
      "image/png": "[encoded data removed]",
      "text/plain": [
       "<Figure size 432x288 with 1 Axes>"
      ]
     },
     "metadata": {
      "needs_background": "light"
     },
     "output_type": "display_data"
    }
   ],
   "source": [
    "import numpy as np\n",
    "import matplotlib.pyplot as plt\n",
    "import time\n",
    "import timeit\n",
    "import array\n",
    "%matplotlib inline\n",
    "class node:\n",
    "    def __init__(self,data):\n",
    "        self.data=data\n",
    "        self.PreviousNode=None \n",
    "        self.NextNode=None \n",
    "\n",
    "class LinkList:\n",
    "    def __init__(self):\n",
    "        self.root=None\n",
    "    def InsertBack(self,data,extranode=None ):\n",
    "        if self.root is None:\n",
    "            self.root=node(data)\n",
    "            extranode=self.root\n",
    "            return self.root\n",
    "        if extranode is None:\n",
    "            extranode=self.root\n",
    "            \n",
    "        \n",
    "        if extranode.NextNode is None:\n",
    "            extranode.NextNode=node(data)\n",
    "            extranode.NextNode.PreviousNode=extranode\n",
    "            return extranode.NextNode\n",
    "        else:\n",
    "            return self.InsertBack(data,extranode= extranode.NextNode)\n",
    "    def linearSearch(self,data):\n",
    "        if self.root is None:\n",
    "            print(\"linkList is empty\")\n",
    "        else:\n",
    "            extranode=self.root\n",
    "            while True:\n",
    "                #print(extranode.data)\n",
    "                if extranode.data ==data:\n",
    "                    print(f\"Yes , {data} is found in linklist\")\n",
    "                    break\n",
    "                elif extranode.NextNode is None:\n",
    "                    print(f\"{data} is not found in linklist\")\n",
    "                    break\n",
    "                else:\n",
    "                    extranode=extranode.NextNode\n",
    "        \n",
    "\n",
    "\n",
    "\n",
    "def main():\n",
    "    print(\"give a list of number : \")\n",
    "    li1=list(map(int,input().split(\" \")))\n",
    "    li2=LinkList()\n",
    "    li3=array.array(\"i\",li1)\n",
    "    for i in range(len(li1)):\n",
    "        li2.InsertBack(li1[i])\n",
    "    print(\"your array is : \")\n",
    "    for i in range(len(li1)):\n",
    "        print(f\"{li1[i]} \",end=\"\")\n",
    "    print()\n",
    "    print(\"your list is : \")\n",
    "    for i in range(len(li1)):\n",
    "        print(f\"{li1[i]} \",end=\"\")\n",
    "    print()\n",
    "    print(\"your linked list is : \")\n",
    " \n",
    "    for i in range(len(li1)):\n",
    "        print(f\"{li1[i]} \",end=\"\")\n",
    "\n",
    "    print(\"\\nsearch a number in array, list and linklist : \")\n",
    "    x=int(input())\n",
    "    t1=timeit.default_timer()\n",
    "    b=True\n",
    "    for i in range(len(li1)):\n",
    "        if x==li3[i]:\n",
    "            print(f\"{x} is found in array \")\n",
    "            b=False\n",
    "            break\n",
    "    if b:\n",
    "        print(f\"{x} is not found in array \")\n",
    "    \n",
    "    \n",
    "    atime=(timeit.default_timer()-t1)*1000000\n",
    "    print(f\"search time needed in array {atime} microsecond \")\n",
    "\n",
    "\n",
    "    t1=timeit.default_timer()\n",
    "    \n",
    "    b=True\n",
    "    for i in range(len(li1)):\n",
    "        if x==li1[i]:\n",
    "            print(f\"{x} is found in list \")\n",
    "            b=False\n",
    "            break\n",
    "    if b:\n",
    "        print(f\"{x} is not found in list \")\n",
    "    listtime=(timeit.default_timer()-t1)*1000000\n",
    "    print(f\"search time needed in list {listtime} microsecond \")\n",
    "\n",
    "    \n",
    "    t1=timeit.default_timer()\n",
    "    li2.linearSearch(x)\n",
    "    ltime=(timeit.default_timer()-t1)*1000000\n",
    "    print(f\"search time needed in LinkList {ltime} microsecond \")\n",
    "    \n",
    "    plotlist=[]\n",
    "    plotlist.append(atime)\n",
    "    plotlist.append(listtime)\n",
    "    plotlist.append(ltime)\n",
    "    pp=np.array(plotlist, dtype='f')\n",
    "    \n",
    "    yposition=np.array([0,1,2])\n",
    "    plt.xticks(yposition,[\"array time\",\"List time\",\"linklist time\"])\n",
    "    plt.ylabel(\"Time Consumption\")\n",
    "    plt.title(\"Time Consumption in Linear Search\")\n",
    "    plt.bar(yposition,pp,label=[\"microsecond\"],color=[\"red\",\"blue\",\"green\"])\n",
    "    \n",
    "    plt.legend()\n",
    "    plt.show()\n",
    "    \n",
    "    \n",
    "if __name__==\"__main__\":\n",
    "    main()\n"
   ]
  },
  {
   "cell_type": "code",
   "execution_count": 11,
   "metadata": {},
   "outputs": [
    {
     "name": "stdout",
     "output_type": "stream",
     "text": [
      "Time:  3.54000001152599e-05\n"
     ]
    }
   ],
   "source": [
    " "
   ]
  }
 ],
 "metadata": {
  "kernelspec": {
   "display_name": "Python 3",
   "language": "python",
   "name": "python3"
  },
  "language_info": {
   "codemirror_mode": {
    "name": "ipython",
    "version": 3
   },
   "file_extension": ".py",
   "mimetype": "text/x-python",
   "name": "python",
   "nbconvert_exporter": "python",
   "pygments_lexer": "ipython3",
   "version": "3.7.4"
  }
 },
 "nbformat": 4,
 "nbformat_minor": 2
}
